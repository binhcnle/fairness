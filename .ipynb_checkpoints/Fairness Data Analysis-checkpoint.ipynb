{
 "cells": [
  {
   "cell_type": "markdown",
   "metadata": {},
   "source": [
    "# 1 Import Libraries"
   ]
  },
  {
   "cell_type": "code",
   "execution_count": 1,
   "metadata": {},
   "outputs": [
    {
     "ename": "ModuleNotFoundError",
     "evalue": "No module named 'numpy'",
     "output_type": "error",
     "traceback": [
      "\u001b[1;31m---------------------------------------------------------------------------\u001b[0m",
      "\u001b[1;31mModuleNotFoundError\u001b[0m                       Traceback (most recent call last)",
      "\u001b[1;32m<ipython-input-1-be4d138d1162>\u001b[0m in \u001b[0;36m<module>\u001b[1;34m\u001b[0m\n\u001b[0;32m      2\u001b[0m \u001b[1;31m# Pandas is built on top of numpy\u001b[0m\u001b[1;33m\u001b[0m\u001b[1;33m\u001b[0m\u001b[1;33m\u001b[0m\u001b[0m\n\u001b[0;32m      3\u001b[0m \u001b[1;31m# Numpy allows fast advanced mathematical operations on large amount of data\u001b[0m\u001b[1;33m\u001b[0m\u001b[1;33m\u001b[0m\u001b[1;33m\u001b[0m\u001b[0m\n\u001b[1;32m----> 4\u001b[1;33m \u001b[1;32mimport\u001b[0m \u001b[0mnumpy\u001b[0m \u001b[1;32mas\u001b[0m \u001b[0mnp\u001b[0m\u001b[1;33m\u001b[0m\u001b[1;33m\u001b[0m\u001b[0m\n\u001b[0m\u001b[0;32m      5\u001b[0m \u001b[1;32mimport\u001b[0m \u001b[0mpandas\u001b[0m \u001b[1;32mas\u001b[0m \u001b[0mpd\u001b[0m\u001b[1;33m\u001b[0m\u001b[1;33m\u001b[0m\u001b[0m\n\u001b[0;32m      6\u001b[0m \u001b[1;33m\u001b[0m\u001b[0m\n",
      "\u001b[1;31mModuleNotFoundError\u001b[0m: No module named 'numpy'"
     ]
    }
   ],
   "source": [
    "# Pandas is the main library used for exploratory data analysis\n",
    "# Pandas is built on top of numpy \n",
    "# Numpy allows fast advanced mathematical operations on large amount of data\n",
    "import numpy as np\n",
    "import pandas as pd\n",
    "\n",
    "# Library to assign missing values - not used here, better do it in EDA\n",
    "from sklearn.impute import SimpleImputer"
   ]
  },
  {
   "cell_type": "markdown",
   "metadata": {},
   "source": [
    "# 2 Load Data"
   ]
  },
  {
   "cell_type": "code",
   "execution_count": null,
   "metadata": {},
   "outputs": [],
   "source": [
    "# Load the data from the web\n",
    "url = 'data.csv'\n",
    "col_names = ['Survey Id', \n",
    "             'Keyword Id',\n",
    "             'Keyword Content',\n",
    "            'Country Of Origin Id',\n",
    "             'Country Of Origin Label',\n",
    "             'Country Id',\n",
    "             'Country Label'\n",
    "             'Province Id',\n",
    "             'Province Label'\n",
    "             'Age Group Id',\n",
    "             'Age Group Label',\n",
    "             'Gender Label',\n",
    "             'Share Device',\n",
    "             'Mobile Type',\n",
    "             'Degree',\n",
    "             'Rank Pandemic',\n",
    "             'Source Information Id', \n",
    "             'Source Information Label'\n",
    "             'Result Item Rank',\n",
    "             'Result Item Title',\n",
    "             'Result Item Metadesc',\n",
    "             'Result Item Created At',\n",
    "             'Result Item Full Url',\n",
    "             'Result Item Full Domain',\n",
    "             'Google Tracked Country',\n",
    "             'Google Tracked Address',\n",
    "             'Result Item Openrank',\n",
    "             'Keyword Openrank Average',\n",
    "             'Survey Openrank Average'\n",
    "        \n",
    "            ]\n",
    "fairness_df = pd.read_csv(url, header=None, names=col_names)"
   ]
  },
  {
   "cell_type": "code",
   "execution_count": null,
   "metadata": {},
   "outputs": [],
   "source": []
  },
  {
   "cell_type": "code",
   "execution_count": null,
   "metadata": {},
   "outputs": [],
   "source": []
  },
  {
   "cell_type": "code",
   "execution_count": null,
   "metadata": {},
   "outputs": [],
   "source": []
  },
  {
   "cell_type": "code",
   "execution_count": null,
   "metadata": {},
   "outputs": [],
   "source": []
  },
  {
   "cell_type": "code",
   "execution_count": null,
   "metadata": {},
   "outputs": [],
   "source": []
  }
 ],
 "metadata": {
  "kernelspec": {
   "display_name": "Python 3",
   "language": "python",
   "name": "python3"
  },
  "language_info": {
   "codemirror_mode": {
    "name": "ipython",
    "version": 3
   },
   "file_extension": ".py",
   "mimetype": "text/x-python",
   "name": "python",
   "nbconvert_exporter": "python",
   "pygments_lexer": "ipython3",
   "version": "3.7.7"
  }
 },
 "nbformat": 4,
 "nbformat_minor": 4
}
