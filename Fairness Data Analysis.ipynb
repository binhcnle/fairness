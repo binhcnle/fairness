{
 "cells": [
  {
   "cell_type": "markdown",
   "metadata": {},
   "source": [
    "# 1 Import Libraries"
   ]
  },
  {
   "cell_type": "code",
   "execution_count": 11,
   "metadata": {},
   "outputs": [],
   "source": [
    "# Pandas is the main library used for exploratory data analysis\n",
    "# Pandas is built on top of numpy \n",
    "# Numpy allows fast advanced mathematical operations on large amount of data\n",
    "import numpy as np\n",
    "import pandas as pd\n"
   ]
  },
  {
   "cell_type": "markdown",
   "metadata": {},
   "source": [
    "# 2 Load Data"
   ]
  },
  {
   "cell_type": "code",
   "execution_count": 12,
   "metadata": {},
   "outputs": [
    {
     "name": "stdout",
     "output_type": "stream",
     "text": [
      "<class 'pandas.core.frame.DataFrame'>\n",
      "MultiIndex: 6653 entries, ('Survey Id', 'Keyword Id') to ('148', '10')\n",
      "Data columns (total 27 columns):\n",
      " #   Column                      Non-Null Count  Dtype \n",
      "---  ------                      --------------  ----- \n",
      " 0   Survey Id                   6653 non-null   object\n",
      " 1   Keyword Id                  6653 non-null   object\n",
      " 2   Keyword Content             6653 non-null   object\n",
      " 3   Country Of Origin Id        6653 non-null   object\n",
      " 4   Country Of Origin Label     6653 non-null   object\n",
      " 5   Country Id                  6653 non-null   object\n",
      " 6   Country LabelProvince Id    6653 non-null   object\n",
      " 7   Province LabelAge Group Id  6653 non-null   object\n",
      " 8   Age Group Label             6653 non-null   object\n",
      " 9   Gender Label                6653 non-null   object\n",
      " 10  Share Device                6653 non-null   object\n",
      " 11  Mobile Type                 6653 non-null   object\n",
      " 12  Degree                      6653 non-null   object\n",
      " 13  Rank Pandemic               6653 non-null   object\n",
      " 14  Source Information Id       6653 non-null   object\n",
      " 15  Source Information Label    6653 non-null   object\n",
      " 16  Result Item Rank            6653 non-null   object\n",
      " 17  Result Item Title           6602 non-null   object\n",
      " 18  Result Item Metadesc        6602 non-null   object\n",
      " 19  Result Item Created At      2413 non-null   object\n",
      " 20  Result Item Full Url        6602 non-null   object\n",
      " 21  Result Item Full Domain     6602 non-null   object\n",
      " 22  Google Tracked Country      2301 non-null   object\n",
      " 23  Google Tracked Address      5777 non-null   object\n",
      " 24  Result Item Openrank        6602 non-null   object\n",
      " 25  Keyword Openrank Average    6653 non-null   object\n",
      " 26  Survey Openrank Average     6653 non-null   object\n",
      "dtypes: object(27)\n",
      "memory usage: 1.4+ MB\n"
     ]
    }
   ],
   "source": [
    "# Load the data from the web\n",
    "url = 'data.csv'\n",
    "\n",
    "col_names = ['Survey Id', \n",
    "             'Keyword Id',\n",
    "             'Keyword Content',\n",
    "            'Country Of Origin Id',\n",
    "             'Country Of Origin Label',\n",
    "             'Country Id',\n",
    "             'Country Label'\n",
    "             'Province Id',\n",
    "             'Province Label'\n",
    "             'Age Group Id',\n",
    "             'Age Group Label',\n",
    "             'Gender Label',\n",
    "             'Share Device',\n",
    "             'Mobile Type',\n",
    "             'Degree',\n",
    "             'Rank Pandemic',\n",
    "             'Source Information Id', \n",
    "             'Source Information Label',\n",
    "             'Result Item Rank',\n",
    "             'Result Item Title',\n",
    "             'Result Item Metadesc',\n",
    "             'Result Item Created At',\n",
    "             'Result Item Full Url',\n",
    "             'Result Item Full Domain',\n",
    "             'Google Tracked Country',\n",
    "             'Google Tracked Address',\n",
    "             'Result Item Openrank',\n",
    "             'Keyword Openrank Average',\n",
    "             'Survey Openrank Average']\n",
    "\n",
    "fairness_df = pd.read_csv(url, header=None, names=col_names)\n",
    "\n",
    "fairness_df.info()\n",
    "\n",
    "pip install pandas"
   ]
  },
  {
   "cell_type": "code",
   "execution_count": null,
   "metadata": {},
   "outputs": [],
   "source": []
  },
  {
   "cell_type": "code",
   "execution_count": null,
   "metadata": {},
   "outputs": [],
   "source": []
  },
  {
   "cell_type": "code",
   "execution_count": null,
   "metadata": {},
   "outputs": [],
   "source": []
  },
  {
   "cell_type": "code",
   "execution_count": null,
   "metadata": {},
   "outputs": [],
   "source": []
  },
  {
   "cell_type": "code",
   "execution_count": null,
   "metadata": {},
   "outputs": [],
   "source": []
  },
  {
   "cell_type": "code",
   "execution_count": null,
   "metadata": {},
   "outputs": [],
   "source": []
  }
 ],
 "metadata": {
  "kernelspec": {
   "display_name": "Python 3",
   "language": "python",
   "name": "python3"
  },
  "language_info": {
   "codemirror_mode": {
    "name": "ipython",
    "version": 3
   },
   "file_extension": ".py",
   "mimetype": "text/x-python",
   "name": "python",
   "nbconvert_exporter": "python",
   "pygments_lexer": "ipython3",
   "version": "3.7.7"
  }
 },
 "nbformat": 4,
 "nbformat_minor": 4
}
