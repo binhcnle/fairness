{
 "cells": [
  {
   "cell_type": "code",
   "execution_count": 1,
   "metadata": {},
   "outputs": [
    {
     "ename": "ModuleNotFoundError",
     "evalue": "No module named 'sklearn'",
     "output_type": "error",
     "traceback": [
      "\u001b[1;31m---------------------------------------------------------------------------\u001b[0m",
      "\u001b[1;31mModuleNotFoundError\u001b[0m                       Traceback (most recent call last)",
      "\u001b[1;32m<ipython-input-1-7b1aaaa1d28b>\u001b[0m in \u001b[0;36m<module>\u001b[1;34m\u001b[0m\n\u001b[0;32m      4\u001b[0m \u001b[1;32mimport\u001b[0m \u001b[0mrbo\u001b[0m\u001b[1;33m\u001b[0m\u001b[1;33m\u001b[0m\u001b[0m\n\u001b[0;32m      5\u001b[0m \u001b[1;32mimport\u001b[0m \u001b[0mwarnings\u001b[0m\u001b[1;33m\u001b[0m\u001b[1;33m\u001b[0m\u001b[0m\n\u001b[1;32m----> 6\u001b[1;33m \u001b[1;32mfrom\u001b[0m \u001b[0msklearn\u001b[0m\u001b[1;33m.\u001b[0m\u001b[0mmetrics\u001b[0m \u001b[1;32mimport\u001b[0m \u001b[0mjaccard_similarity_score\u001b[0m\u001b[1;33m\u001b[0m\u001b[1;33m\u001b[0m\u001b[0m\n\u001b[0m\u001b[0;32m      7\u001b[0m \u001b[0mwarnings\u001b[0m\u001b[1;33m.\u001b[0m\u001b[0mfilterwarnings\u001b[0m\u001b[1;33m(\u001b[0m\u001b[1;34m\"ignore\"\u001b[0m\u001b[1;33m)\u001b[0m\u001b[1;33m\u001b[0m\u001b[1;33m\u001b[0m\u001b[0m\n\u001b[0;32m      8\u001b[0m \u001b[1;33m\u001b[0m\u001b[0m\n",
      "\u001b[1;31mModuleNotFoundError\u001b[0m: No module named 'sklearn'"
     ]
    }
   ],
   "source": [
    "import pandas as pd\n",
    "import seaborn as sns\n",
    "import matplotlib.pyplot as plt\n",
    "import rbo\n",
    "import warnings\n",
    "from sklearn.metrics import jaccard_similarity_score\n",
    "warnings.filterwarnings(\"ignore\")\n",
    "\n",
    "# pd.set_option('display.max_columns',100)\n",
    "# pd.set_option('display.max_rows',100)\n",
    "sns.set(rc={'figure.figsize':(10,8)})"
   ]
  },
  {
   "cell_type": "code",
   "execution_count": null,
   "metadata": {},
   "outputs": [],
   "source": [
    "df = pd.read_csv(\"Data.csv\",index_col=0)"
   ]
  },
  {
   "cell_type": "code",
   "execution_count": null,
   "metadata": {},
   "outputs": [],
   "source": [
    "df.columns"
   ]
  },
  {
   "cell_type": "code",
   "execution_count": null,
   "metadata": {},
   "outputs": [],
   "source": [
    "dff = df.copy()"
   ]
  },
  {
   "cell_type": "markdown",
   "metadata": {},
   "source": [
    "### •\tFor each of the 10 queries, how similar or different are the results across the 50 participants?"
   ]
  },
  {
   "cell_type": "code",
   "execution_count": null,
   "metadata": {},
   "outputs": [],
   "source": [
    "query_dict = {}\n",
    "query_dict_1 = {}\n",
    "for i in dff.groupby(\"Keyword Id\"):\n",
    "    dumy = i[1]\n",
    "    print(\"Query ID : {}   Content : {}\".format(i[0],dumy[\"Keyword Content\"].values[0]))\n",
    "    qd = {}\n",
    "    qd_1 = {}\n",
    "    for survey in dumy.groupby(\"Survey Id\"):\n",
    "        s_df = survey[1]\n",
    "        qd[survey[0]] = s_df[\"Result Item Full Url\"].to_list()\n",
    "        qd_1[survey[0]] = s_df[\"Result Item Full Domain\"].to_list()\n",
    "        \n",
    "    query_dict[i[0]] = qd\n",
    "    query_dict_1[i[0]] = qd_1"
   ]
  },
  {
   "cell_type": "code",
   "execution_count": null,
   "metadata": {},
   "outputs": [],
   "source": [
    "\n",
    "d1 = pd.DataFrame()\n",
    "d2 = pd.DataFrame()\n",
    "d3 = pd.DataFrame()\n",
    "\n",
    "dd1 = pd.DataFrame()\n",
    "dd2 = pd.DataFrame()\n",
    "dd3 = pd.DataFrame()\n",
    "\n",
    "for num in range(1,11):\n",
    "#     print(num)\n",
    "    ls = query_dict[num]\n",
    "    ls_1 = query_dict_1[num]\n",
    "    \n",
    "#     print(ls)\n",
    "    averages = {}\n",
    "    averages_2 = {}\n",
    "    averages_3 = {}\n",
    "#     print(len(ls))\n",
    "    daverages = {}\n",
    "    daverages_2 = {}\n",
    "    daverages_3 = {}\n",
    "    \n",
    "    for idx1, i in enumerate(ls.items()):\n",
    "#         print(i[0])\n",
    "#         print(i[1])\n",
    "        scores = []\n",
    "        scores_2 = []\n",
    "        scores_3 = []\n",
    "        \n",
    "        for idx2, j in enumerate(ls.items()):\n",
    "            if idx1 != idx2:\n",
    "#                 print(len(i[1]),len(j[1]))\n",
    "                score = rbo.RankingSimilarity(i[1],j[1]).rbo(p=1)\n",
    "                scores.append(score)\n",
    "                \n",
    "                score_2 = rbo.RankingSimilarity(i[1],j[1]).rbo(p=0.67)\n",
    "                scores_2.append(score_2)\n",
    "                \n",
    "                v = min(len(i[1]),len(j[1]))\n",
    "                score_3 = jaccard_similarity_score(i[1][:v],j[1][:v])\n",
    "                scores_3.append(score_3)\n",
    "                \n",
    "#          # Average of 49 RBO values for a single survey for a particular query\n",
    "#          # to know how similar or different this particular query of survey was comapred with 49 other surveys search results\n",
    "#         print(scores)\n",
    "        avg = sum(scores)/len(scores)\n",
    "        averages[i[0]] = avg\n",
    "        \n",
    "        avg_2 = sum(scores_2)/len(scores_2)\n",
    "        averages_2[i[0]] = avg_2\n",
    "        \n",
    "        avg_3 = sum(scores_3)/len(scores_3)\n",
    "        averages_3[i[0]] = avg_3\n",
    "                \n",
    "\n",
    "                    \n",
    "    for idx1, i in enumerate(ls_1.items()):\n",
    "        \n",
    "        dscores = []\n",
    "        dscores_2 = []\n",
    "        dscores_3 = []\n",
    "        \n",
    "        for idx2, j in enumerate(ls_1.items()):\n",
    "            if idx1 != idx2:\n",
    "                o1 = []\n",
    "                o2 = []\n",
    "                \n",
    "                for q in i[1]:\n",
    "                    if q not in o1:\n",
    "                        o1.append(q)\n",
    "                        \n",
    "                for q in j[1]:\n",
    "                    if q not in o2:\n",
    "                        o2.append(q)\n",
    "\n",
    "                dscore = rbo.RankingSimilarity(o1,o2).rbo(p=1)\n",
    "                dscores.append(dscore)\n",
    "                \n",
    "                dscore_2 = rbo.RankingSimilarity(o1,o2).rbo(p=0.67)\n",
    "                dscores_2.append(dscore_2)\n",
    "                \n",
    "                v = min(len(o1),len(o2))\n",
    "                dscore_3 = jaccard_similarity_score(o1[:v],o2[:v])\n",
    "                dscores_3.append(dscore_3)\n",
    "                \n",
    "                \n",
    "        davg = sum(dscores)/len(dscores)\n",
    "        daverages[i[0]] = davg\n",
    "        \n",
    "        davg_2 = sum(dscores_2)/len(dscores_2)\n",
    "        daverages_2[i[0]] = davg_2\n",
    "        \n",
    "        davg_3 = sum(dscores_3)/len(dscores_3)\n",
    "        daverages_3[i[0]] = davg_3\n",
    "\n",
    "\n",
    "# #     print(len(averages))\n",
    "    d = pd.DataFrame({'Query {}'.format(num):averages})\n",
    "    d1 = pd.concat([d,d1], ignore_index=True, axis=1)\n",
    "    \n",
    "    d_2 = pd.DataFrame({'Query {}'.format(num):averages_2})\n",
    "    d2 = pd.concat([d_2,d2], ignore_index=True, axis=1)\n",
    "    \n",
    "    d_3 = pd.DataFrame({'Query {}'.format(num):averages_3})\n",
    "    d3 = pd.concat([d_3,d3], ignore_index=True, axis=1)\n",
    "    \n",
    "    # #     print(len(averages))\n",
    "    dd = pd.DataFrame({'Query {}'.format(num):daverages})\n",
    "    dd1 = pd.concat([dd,dd1], ignore_index=True, axis=1)\n",
    "    \n",
    "    dd_2 = pd.DataFrame({'Query {}'.format(num):daverages_2})\n",
    "    dd2 = pd.concat([dd_2,dd2], ignore_index=True, axis=1)\n",
    "    \n",
    "    dd_3 = pd.DataFrame({'Query {}'.format(num):daverages_3})\n",
    "    dd3 = pd.concat([dd_3,dd3], ignore_index=True, axis=1)\n",
    "    "
   ]
  },
  {
   "cell_type": "code",
   "execution_count": null,
   "metadata": {},
   "outputs": [],
   "source": [
    "d1.columns = [\"Query {}\".format(i) for i in range(1,11)]\n",
    "d2.columns = [\"Query {}\".format(i) for i in range(1,11)]\n",
    "d3.columns = [\"Query {}\".format(i) for i in range(1,11)]\n",
    "\n",
    "dd1.columns = [\"Query {}\".format(i) for i in range(1,11)]\n",
    "dd2.columns = [\"Query {}\".format(i) for i in range(1,11)]\n",
    "dd3.columns = [\"Query {}\".format(i) for i in range(1,11)]"
   ]
  },
  {
   "cell_type": "code",
   "execution_count": null,
   "metadata": {},
   "outputs": [],
   "source": [
    "\n",
    "d1.plot(kind='box')\n",
    "plt.ylim([0,1])\n",
    "plt.title(\"RBO (Full URL) plot for each Query (p=1)\",fontsize=20)\n",
    "plt.ylabel(\"RBO Score\",fontsize=18)\n",
    "plt.show()"
   ]
  },
  {
   "cell_type": "code",
   "execution_count": null,
   "metadata": {},
   "outputs": [],
   "source": [
    "dd1.plot(kind='box')\n",
    "plt.ylim([0,1])\n",
    "plt.title(\"RBO (Full Domain) plot for each Query (p=1)\",fontsize=20)\n",
    "plt.ylabel(\"RBO Score\",fontsize=18)\n",
    "plt.show()"
   ]
  },
  {
   "cell_type": "markdown",
   "metadata": {},
   "source": [
    "### o\tWhere are the differences? (E.g. are the differences near the top or bottom of the list?)"
   ]
  },
  {
   "cell_type": "markdown",
   "metadata": {},
   "source": [
    "Rank-biased overlap falls in the range [0, 1], where 0 means disjoint, and 1 means identical. The parameter p determines how steep the decline in weights is: the smaller p, the\n",
    "more top-weighted the metric is. In the limit, when p = 0, only the top-ranked item is\n",
    "considered, and the RBO score is either zero or one. On the other hand, as p approaches\n",
    "arbitrarily close to 1, the weights become arbitrarily flat, and the evaluation becomes arbitrarily deep."
   ]
  },
  {
   "cell_type": "code",
   "execution_count": null,
   "metadata": {},
   "outputs": [],
   "source": [
    "d2.plot(kind='box')\n",
    "plt.ylim([0,1])\n",
    "plt.title(\"RBO (Full URL) plot for each Query (p=0.67)\",fontsize=20)\n",
    "plt.ylabel(\"RBO Score\",fontsize=18)\n",
    "plt.show()"
   ]
  },
  {
   "cell_type": "code",
   "execution_count": null,
   "metadata": {},
   "outputs": [],
   "source": [
    "dd2.plot(kind='box')\n",
    "plt.ylim([0,1])\n",
    "plt.title(\"RBO (Full Domain) plot for each Query (p=0.67)\",fontsize=20)\n",
    "plt.ylabel(\"RBO Score\",fontsize=18)\n",
    "plt.show()"
   ]
  },
  {
   "cell_type": "code",
   "execution_count": null,
   "metadata": {},
   "outputs": [],
   "source": [
    "vals = dff.set_index(\"Survey Id\").groupby(level=0)[\"Country Label\"].agg(\"max\").to_dict().values()\n",
    "country_series = dff.set_index(\"Survey Id\").groupby(level=0)[\"Country Label\"].agg(\"max\")\n",
    "set(vals)\n",
    "country_colorss = {'Brazil':\"orange\", 'Germany':\"blue\", 'India':\"red\", 'Spain':\"purple\", 'United States':\"green\"}"
   ]
  },
  {
   "cell_type": "code",
   "execution_count": null,
   "metadata": {},
   "outputs": [],
   "source": [
    "\n",
    "d2_dumy = d2.copy()\n",
    "d2_dumy[\"country\"] = country_series\n",
    "d2_dumy[\"color\"] = d2_dumy[\"country\"].map(country_colorss)\n",
    "country_colors = d2_dumy[\"color\"]"
   ]
  },
  {
   "cell_type": "markdown",
   "metadata": {},
   "source": [
    "### Plotting Outliers for Queries"
   ]
  },
  {
   "cell_type": "code",
   "execution_count": null,
   "metadata": {},
   "outputs": [],
   "source": [
    "sns.set(rc={'figure.figsize':(15,5)})\n",
    "sns.barplot(x=d2.index,y=d2['Query 9'],palette=country_colors)\n",
    "plt.xticks(rotation=45)\n",
    "plt.ylim([0,1])\n",
    "plt.title(\"Query 9 RBO (Full URL) Scores p(0.67)\",fontsize=20)\n",
    "plt.ylabel(\"RBO Score\",fontsize=16)\n",
    "plt.xlabel(\"Participant ID\",fontsize=16)\n",
    "plt.show()"
   ]
  },
  {
   "cell_type": "code",
   "execution_count": null,
   "metadata": {},
   "outputs": [],
   "source": [
    "sns.set(rc={'figure.figsize':(15,5)})\n",
    "sns.barplot(x=dd2.index,y=dd2['Query 9'],palette=country_colors)\n",
    "plt.xticks(rotation=45)\n",
    "plt.ylim([0,1])\n",
    "plt.title(\"Query 9 RBO (Full Domain) Scores p(0.67)\",fontsize=20)\n",
    "plt.ylabel(\"RBO Score\",fontsize=16)\n",
    "plt.xlabel(\"Participant ID\",fontsize=16)\n",
    "plt.show()"
   ]
  },
  {
   "cell_type": "code",
   "execution_count": null,
   "metadata": {},
   "outputs": [],
   "source": [
    "sns.set(rc={'figure.figsize':(15,5)})\n",
    "sns.barplot(x=d2.index,y=d2['Query 6'],palette=country_colors)\n",
    "plt.xticks(rotation=45)\n",
    "plt.ylim([0,1])\n",
    "plt.title(\"Query 6 RBO (Full URL) Scores\",fontsize=20)\n",
    "plt.ylabel(\"RBO Score\",fontsize=16)\n",
    "plt.xlabel(\"Participant ID\",fontsize=16)\n",
    "plt.show()"
   ]
  },
  {
   "cell_type": "code",
   "execution_count": null,
   "metadata": {},
   "outputs": [],
   "source": [
    "sns.set(rc={'figure.figsize':(15,5)})\n",
    "sns.barplot(x=dd2.index,y=dd2['Query 6'],palette=country_colors)\n",
    "plt.xticks(rotation=45)\n",
    "plt.ylim([0,1])\n",
    "plt.title(\"Query 6 RBO (Full Domain) Scores\",fontsize=20)\n",
    "plt.ylabel(\"RBO Score\",fontsize=16)\n",
    "plt.xlabel(\"Participant ID\",fontsize=16)\n",
    "plt.show()"
   ]
  },
  {
   "cell_type": "code",
   "execution_count": null,
   "metadata": {},
   "outputs": [],
   "source": [
    "sns.set(rc={'figure.figsize':(15,5)})\n",
    "sns.barplot(x=d2.index,y=d2['Query 4'],palette=country_colors)\n",
    "plt.xticks(rotation=45)\n",
    "plt.ylim([0,1])\n",
    "plt.title(\"Query 4 RBO (Full URL) Scores\",fontsize=20)\n",
    "plt.ylabel(\"RBO Score\",fontsize=16)\n",
    "plt.xlabel(\"Participant ID\",fontsize=16)\n",
    "plt.show()"
   ]
  },
  {
   "cell_type": "code",
   "execution_count": null,
   "metadata": {},
   "outputs": [],
   "source": [
    "sns.set(rc={'figure.figsize':(15,5)})\n",
    "sns.barplot(x=dd2.index,y=dd2['Query 4'],palette=country_colors)\n",
    "plt.xticks(rotation=45)\n",
    "plt.ylim([0,1])\n",
    "plt.title(\"Query 4 RBO (Full Domain) Scores\",fontsize=20)\n",
    "plt.ylabel(\"RBO Score\",fontsize=16)\n",
    "plt.xlabel(\"Participant ID\",fontsize=16)\n",
    "plt.show()"
   ]
  },
  {
   "cell_type": "code",
   "execution_count": null,
   "metadata": {},
   "outputs": [],
   "source": [
    "country_dict = df.set_index(\"Survey Id\")[[\"Country Label\"]].groupby(level=0).agg('max').to_dict()[\"Country Label\"]"
   ]
  },
  {
   "cell_type": "code",
   "execution_count": null,
   "metadata": {},
   "outputs": [],
   "source": [
    "d1country = pd.melt(d1.T)\n",
    "d1country[\"country\"] = d1country[\"variable\"].map(country_dict)\n",
    "d1country.head()"
   ]
  },
  {
   "cell_type": "code",
   "execution_count": null,
   "metadata": {},
   "outputs": [],
   "source": [
    "dd1country = pd.melt(dd1.T)\n",
    "dd1country[\"country\"] = dd1country[\"variable\"].map(country_dict)\n",
    "dd1country.head()"
   ]
  },
  {
   "cell_type": "code",
   "execution_count": null,
   "metadata": {},
   "outputs": [],
   "source": [
    "sns.set(rc={'figure.figsize':(18,8)})\n",
    "sns.boxplot(x=\"variable\", y=\"value\", data=d1country,palette=country_colors)\n",
    "plt.xticks(rotation=45)\n",
    "plt.title(\"RBO (Full URL) Box plot for each Survey (p=1)\",fontsize=20)\n",
    "plt.ylabel(\"RBO Score\",fontsize=16)\n",
    "plt.xlabel(\"Participant ID\",fontsize=16)\n",
    "plt.ylim([0,1])\n",
    "plt.show()"
   ]
  },
  {
   "cell_type": "code",
   "execution_count": null,
   "metadata": {},
   "outputs": [],
   "source": [
    "sns.set(rc={'figure.figsize':(18,8)})\n",
    "sns.boxplot(x=\"variable\", y=\"value\", data=dd1country,palette=country_colors)\n",
    "plt.xticks(rotation=45)\n",
    "plt.title(\"RBO (Full Domain) Box plot for each Survey (p=1)\",fontsize=20)\n",
    "plt.ylabel(\"RBO Score\",fontsize=16)\n",
    "plt.xlabel(\"Participant ID\",fontsize=16)\n",
    "plt.ylim([0,1])\n",
    "plt.show()"
   ]
  },
  {
   "cell_type": "code",
   "execution_count": null,
   "metadata": {},
   "outputs": [],
   "source": [
    "sns.set(rc={'figure.figsize':(18,8)})\n",
    "sns.boxplot(x=\"variable\", y=\"value\", data=d1country,color='black')\n",
    "sns.swarmplot(x=\"variable\", y=\"value\", data=d1country,hue='country')\n",
    "plt.xticks(rotation=45)\n",
    "plt.title(\"RBO (Full URL) Box plot for each Survey (p=1)\",fontsize=20)\n",
    "plt.ylabel(\"RBO Score\",fontsize=16)\n",
    "plt.xlabel(\"Participant ID\",fontsize=16)\n",
    "plt.ylim([0,1])\n",
    "plt.show()"
   ]
  },
  {
   "cell_type": "code",
   "execution_count": null,
   "metadata": {},
   "outputs": [],
   "source": [
    "sns.set(rc={'figure.figsize':(18,8)})\n",
    "sns.boxplot(x=\"variable\", y=\"value\", data=dd1country,color='black')\n",
    "sns.swarmplot(x=\"variable\", y=\"value\", data=dd1country,hue='country')\n",
    "plt.xticks(rotation=45)\n",
    "plt.title(\"RBO (Full Domain) Box plot for each Survey (p=1)\",fontsize=20)\n",
    "plt.ylabel(\"RBO Score\",fontsize=16)\n",
    "plt.xlabel(\"Participant ID\",fontsize=16)\n",
    "plt.ylim([0,1])\n",
    "plt.show()"
   ]
  },
  {
   "cell_type": "code",
   "execution_count": null,
   "metadata": {},
   "outputs": [],
   "source": [
    "d2country = pd.melt(d2.T)\n",
    "d2country[\"country\"] = d2country[\"variable\"].map(country_dict)\n",
    "d2country.head()"
   ]
  },
  {
   "cell_type": "code",
   "execution_count": null,
   "metadata": {},
   "outputs": [],
   "source": [
    "dd2country = pd.melt(dd2.T)\n",
    "dd2country[\"country\"] = dd2country[\"variable\"].map(country_dict)\n",
    "dd2country.head()"
   ]
  },
  {
   "cell_type": "code",
   "execution_count": null,
   "metadata": {},
   "outputs": [],
   "source": [
    "sns.set(rc={'figure.figsize':(18,8)})\n",
    "sns.boxplot(x=\"variable\", y=\"value\", data=pd.melt(d2.T),palette=country_colors)\n",
    "plt.xticks(rotation=45)\n",
    "plt.title(\"RBO (Full URL) Box plot for each Survey (p=0.67)\",fontsize=20)\n",
    "plt.ylabel(\"RBO Score\",fontsize=16)\n",
    "plt.xlabel(\"Participant ID\",fontsize=16)\n",
    "plt.ylim([0,1])\n",
    "plt.show()"
   ]
  },
  {
   "cell_type": "code",
   "execution_count": null,
   "metadata": {},
   "outputs": [],
   "source": [
    "sns.set(rc={'figure.figsize':(18,8)})\n",
    "sns.boxplot(x=\"variable\", y=\"value\", data=pd.melt(dd2.T),palette=country_colors)\n",
    "plt.xticks(rotation=45)\n",
    "plt.title(\"RBO (Full Domain) Box plot for each Survey (p=0.67)\",fontsize=20)\n",
    "plt.ylabel(\"RBO Score\",fontsize=16)\n",
    "plt.xlabel(\"Participant ID\",fontsize=16)\n",
    "plt.ylim([0,1])\n",
    "plt.show()"
   ]
  },
  {
   "cell_type": "code",
   "execution_count": null,
   "metadata": {},
   "outputs": [],
   "source": [
    "sns.set(rc={'figure.figsize':(18,8)})\n",
    "sns.boxplot(x=\"variable\", y=\"value\", data=pd.melt(d2.T),color='black')\n",
    "sns.swarmplot(x=\"variable\", y=\"value\", data=d2country,hue='country')\n",
    "plt.xticks(rotation=45)\n",
    "plt.title(\"RBO (Full URL) Box plot for each Survey (p=0.67)\",fontsize=20)\n",
    "plt.ylabel(\"RBO Score\",fontsize=16)\n",
    "plt.xlabel(\"Participant ID\",fontsize=16)\n",
    "plt.ylim([0,1])\n",
    "plt.show()"
   ]
  },
  {
   "cell_type": "code",
   "execution_count": null,
   "metadata": {},
   "outputs": [],
   "source": [
    "sns.set(rc={'figure.figsize':(18,8)})\n",
    "sns.boxplot(x=\"variable\", y=\"value\", data=pd.melt(dd2.T),color='black')\n",
    "sns.swarmplot(x=\"variable\", y=\"value\", data=dd2country,hue='country')\n",
    "plt.xticks(rotation=45)\n",
    "plt.title(\"RBO (Full Domain) Box plot for each Survey (p=0.67)\",fontsize=20)\n",
    "plt.ylabel(\"RBO Score\",fontsize=16)\n",
    "plt.xlabel(\"Participant ID\",fontsize=16)\n",
    "plt.ylim([0,1])\n",
    "plt.show()"
   ]
  },
  {
   "cell_type": "code",
   "execution_count": null,
   "metadata": {},
   "outputs": [],
   "source": [
    "d3country = pd.melt(d3.T)\n",
    "d3country[\"country\"] = d3country[\"variable\"].map(country_dict)\n",
    "d3country.head()"
   ]
  },
  {
   "cell_type": "code",
   "execution_count": null,
   "metadata": {},
   "outputs": [],
   "source": [
    "dd3country = pd.melt(dd3.T)\n",
    "dd3country[\"country\"] = dd3country[\"variable\"].map(country_dict)\n",
    "dd3country.head()"
   ]
  },
  {
   "cell_type": "code",
   "execution_count": null,
   "metadata": {},
   "outputs": [],
   "source": [
    "sns.set(rc={'figure.figsize':(18,8)})\n",
    "sns.boxplot(x=\"variable\", y=\"value\", data=pd.melt(d3.T),palette=country_colors)\n",
    "plt.xticks(rotation=45)\n",
    "plt.title(\"Jaccard Similarity Box plot of RBO (Full URL) for each Survey\",fontsize=20)\n",
    "plt.ylabel(\"Jaccard Similarity Score\",fontsize=16)\n",
    "plt.xlabel(\"Participant ID\",fontsize=16)\n",
    "plt.ylim([0,1])\n",
    "plt.show()"
   ]
  },
  {
   "cell_type": "code",
   "execution_count": null,
   "metadata": {},
   "outputs": [],
   "source": [
    "sns.set(rc={'figure.figsize':(18,8)})\n",
    "sns.boxplot(x=\"variable\", y=\"value\", data=pd.melt(dd3.T),palette=country_colors)\n",
    "plt.xticks(rotation=45)\n",
    "plt.title(\"Jaccard Similarity Box plot of RBO (Full Domain) for each Survey\",fontsize=20)\n",
    "plt.ylabel(\"Jaccard Similarity Score\",fontsize=16)\n",
    "plt.xlabel(\"Participant ID\",fontsize=16)\n",
    "plt.ylim([0,1])\n",
    "plt.show()"
   ]
  },
  {
   "cell_type": "code",
   "execution_count": null,
   "metadata": {},
   "outputs": [],
   "source": [
    "sns.set(rc={'figure.figsize':(18,8)})\n",
    "sns.boxplot(x=\"variable\", y=\"value\", data=pd.melt(d3.T),color='black')\n",
    "sns.swarmplot(x=\"variable\", y=\"value\", data=d3country,hue='country')\n",
    "plt.xticks(rotation=45)\n",
    "plt.title(\"Jaccard Similarity Box plot of RBO (Full URL) for each Survey\",fontsize=20)\n",
    "plt.ylabel(\"Jaccard Similarity Score\",fontsize=16)\n",
    "plt.xlabel(\"Participant ID\",fontsize=16)\n",
    "plt.ylim([0,1])\n",
    "plt.show()"
   ]
  },
  {
   "cell_type": "code",
   "execution_count": null,
   "metadata": {},
   "outputs": [],
   "source": [
    "sns.set(rc={'figure.figsize':(18,8)})\n",
    "sns.boxplot(x=\"variable\", y=\"value\", data=pd.melt(dd3.T),color='black')\n",
    "sns.swarmplot(x=\"variable\", y=\"value\", data=dd3country,hue='country')\n",
    "plt.xticks(rotation=45)\n",
    "plt.title(\"Jaccard Similarity Box plot of (Full Domain) for each Survey\",fontsize=20)\n",
    "plt.ylabel(\"Jaccard Similarity Score\",fontsize=16)\n",
    "plt.xlabel(\"Participant ID\",fontsize=16)\n",
    "plt.ylim([0,1])\n",
    "plt.show()"
   ]
  },
  {
   "cell_type": "markdown",
   "metadata": {},
   "source": [
    "### •\tWhat is the difference in the *quality* of what they are getting?\n",
    "### \tProportion of .gov sites?\n"
   ]
  },
  {
   "cell_type": "code",
   "execution_count": null,
   "metadata": {},
   "outputs": [],
   "source": [
    "dff[\"gov domain\"] = dff[\"Result Item Full Domain\"].apply(lambda x: 1 if \".gov\" in x else 0)\n",
    "df2 = dff.groupby([\"Survey Id\",\"Keyword Id\"])[[\"gov domain\"]].agg(['count','sum'])[\"gov domain\"]\n",
    "df2[\"pct\"] = (df2['sum'] / df2[\"count\"])*100 \n",
    "# df2"
   ]
  },
  {
   "cell_type": "code",
   "execution_count": null,
   "metadata": {},
   "outputs": [],
   "source": [
    "df3 = df2.reset_index()"
   ]
  },
  {
   "cell_type": "code",
   "execution_count": null,
   "metadata": {
    "scrolled": false
   },
   "outputs": [],
   "source": [
    "sns.set(rc={'figure.figsize':(18,8)})\n",
    "sns.boxplot(x=\"Survey Id\",y=\"pct\",data=df3,palette=country_colors)\n",
    "plt.title(\"Proportion of Gov Websites in each Survey for 10 Queries\",fontsize=20)\n",
    "plt.ylabel(\"Gov Website Percentage\",fontsize=18)\n",
    "plt.xlabel(\"Participant ID\",fontsize=16)\n",
    "plt.show()"
   ]
  },
  {
   "cell_type": "code",
   "execution_count": null,
   "metadata": {},
   "outputs": [],
   "source": [
    "sns.set(rc={'figure.figsize':(15,5)})\n",
    "sns.barplot(x=df2.reset_index(\"Keyword Id\").index,y=df2['pct'],ci=None,palette=country_colors)\n",
    "plt.xticks(rotation=45)\n",
    "plt.ylim([0,80])\n",
    "plt.title(\"Percentage of Government Websites for each Survey\",fontsize=20)\n",
    "plt.ylabel(\"Percentage of .gov Domains\",fontsize=16)\n",
    "plt.xlabel(\"Participant ID\",fontsize=16)\n",
    "plt.show()"
   ]
  },
  {
   "cell_type": "markdown",
   "metadata": {},
   "source": [
    "###  Openrank scores?"
   ]
  },
  {
   "cell_type": "code",
   "execution_count": null,
   "metadata": {},
   "outputs": [],
   "source": [
    "df3 = dff.groupby([\"Survey Id\",'Keyword Id'],as_index=False)[[\"Keyword Openrank Average\"]].agg(\"max\")\n",
    "df3 = df3[[\"Survey Id\",\"Keyword Openrank Average\"]]"
   ]
  },
  {
   "cell_type": "code",
   "execution_count": null,
   "metadata": {},
   "outputs": [],
   "source": [
    "df3[\"Country\"] = df3[\"Survey Id\"].map(country_dict)"
   ]
  },
  {
   "cell_type": "code",
   "execution_count": null,
   "metadata": {},
   "outputs": [],
   "source": [
    "sns.set(rc={'figure.figsize':(18,8)})\n",
    "sns.boxplot(x=\"Survey Id\", y=\"Keyword Openrank Average\", data=df3,palette=country_colors)\n",
    "plt.xticks(rotation=45)\n",
    "plt.title(\"Box plot of Keyword Openrank for each Survey\",fontsize=20)\n",
    "plt.ylabel(\"Keyword Openrank Average\",fontsize=16)\n",
    "plt.xlabel(\"Participant ID\",fontsize=16)\n",
    "plt.show()"
   ]
  },
  {
   "cell_type": "code",
   "execution_count": null,
   "metadata": {},
   "outputs": [],
   "source": [
    "sns.set(rc={'figure.figsize':(18,8)})\n",
    "sns.boxplot(x=\"Survey Id\", y=\"Keyword Openrank Average\", data=df3,color='black')\n",
    "sns.swarmplot(x=\"Survey Id\", y=\"Keyword Openrank Average\", data=df3,hue='Country')\n",
    "plt.xticks(rotation=45)\n",
    "plt.title(\"Box plot of Average Openrank for each Survey\",fontsize=20)\n",
    "plt.ylabel(\"Keyword Openrank Average\",fontsize=16)\n",
    "plt.xlabel(\"Participant ID\",fontsize=16)\n",
    "plt.show()"
   ]
  },
  {
   "cell_type": "markdown",
   "metadata": {},
   "source": [
    "### Do results vary between positive and negative query formulations?\n",
    "### •\tFor each pair of queries, how similar or different are the results?\n"
   ]
  },
  {
   "cell_type": "code",
   "execution_count": null,
   "metadata": {},
   "outputs": [],
   "source": [
    "pos = [\"should i get tested for covid\",\n",
    "      \"should i get flu shot\",\n",
    "      \"should i get vaccinated\",\n",
    "      \"should i wear facemask\",\n",
    "      \"is hydroxychloroquine effective for covid\"]\n",
    "\n",
    "neg = [\"should i not get tested for covid\",\n",
    "      \"should i not get flu shot\",\n",
    "      \"should i avoid get vaccinated\",\n",
    "      \"should i not wear facemask\",\n",
    "      \"is hydroxychloroquine ineffective for covid\"]\n",
    "\n",
    "dff[\"Pos Keyword\"] = dff[\"Keyword Content\"].apply(lambda x: \"Yes\" if (x in pos) else 'No')\n",
    "\n"
   ]
  },
  {
   "cell_type": "code",
   "execution_count": null,
   "metadata": {},
   "outputs": [],
   "source": [
    "p1 = [\"should i get tested for covid\",\"should i not get tested for covid\"]\n",
    "p2 = [\"should i get flu shot\",\"should i not get flu shot\"]\n",
    "p3 = [\"should i get vaccinated\",\"should i avoid get vaccinated\"]\n",
    "p4 = [\"should i wear facemask\",\"should i not wear facemask\"]\n",
    "p5 = [\"is hydroxychloroquine effective for covid\",\"is hydroxychloroquine ineffective for covid\"]\n",
    "\n",
    "dff['rbo'] = None"
   ]
  },
  {
   "cell_type": "code",
   "execution_count": null,
   "metadata": {},
   "outputs": [],
   "source": [
    "d1 = dff[dff[\"Keyword Content\"].apply(lambda x: True if x in p1 else False)]\n",
    "d2 = dff[dff[\"Keyword Content\"].apply(lambda x: True if x in p2 else False)]\n",
    "d3 = dff[dff[\"Keyword Content\"].apply(lambda x: True if x in p3 else False)]\n",
    "d4 = dff[dff[\"Keyword Content\"].apply(lambda x: True if x in p4 else False)]\n",
    "d5 = dff[dff[\"Keyword Content\"].apply(lambda x: True if x in p5 else False)]"
   ]
  },
  {
   "cell_type": "code",
   "execution_count": null,
   "metadata": {},
   "outputs": [],
   "source": [
    "\n",
    "pairs_dictionary = {}\n",
    "pairs_dictionary_2 = {}\n",
    "pairs_dictionary_3 = {}\n",
    "\n",
    "dpairs_dictionary = {}\n",
    "dpairs_dictionary_2 = {}\n",
    "dpairs_dictionary_3 = {}\n",
    "\n",
    "for idx,dd in enumerate([d1,d2,d3,d4,d5]):\n",
    "    sd = {}\n",
    "    sd_2 = {}\n",
    "    sd_3 = {}\n",
    "\n",
    "    dsd = {}\n",
    "    dsd_2 = {}\n",
    "    dsd_3 = {}\n",
    "    \n",
    "    for i in dd.groupby(\"Survey Id\"):\n",
    "        sid = i[0]\n",
    "        sdf = i[1]\n",
    "        kids = sdf[\"Keyword Id\"].unique()\n",
    "        a1 = sdf[sdf[\"Keyword Id\"] == kids[0]]\n",
    "        a2 = sdf[sdf[\"Keyword Id\"] == kids[1]]\n",
    "    \n",
    "        c1 = a1[\"Result Item Full Url\"].to_list()\n",
    "        c2 = a2[\"Result Item Full Url\"].to_list()\n",
    "        \n",
    "        cc1 = a1[\"Result Item Full Domain\"].to_list()\n",
    "        cc2 = a2[\"Result Item Full Domain\"].to_list()\n",
    "        \n",
    "        dc1 = []\n",
    "        dc2 = []\n",
    "        \n",
    "        for q in cc1:\n",
    "            if q not in dc1:\n",
    "                dc1.append(q)\n",
    "                \n",
    "        for q in cc2:\n",
    "            if q not in dc2:\n",
    "                dc2.append(q)\n",
    "        \n",
    "        \n",
    "        score = rbo.RankingSimilarity(c1, c2).rbo(p=1)\n",
    "        \n",
    "        score_2 = rbo.RankingSimilarity(c1,c2).rbo(p=0.67)\n",
    "        \n",
    "        v = min(len(c1),len(c2))\n",
    "        score_3 = jaccard_similarity_score(c1[:v],c2[:v])\n",
    "        \n",
    "        dscore = rbo.RankingSimilarity(dc1, dc2).rbo(p=1)\n",
    "        \n",
    "        dscore_2 = rbo.RankingSimilarity(dc1,dc2).rbo(p=0.67)\n",
    "        \n",
    "        v = min(len(dc1),len(dc2))\n",
    "        dscore_3 = jaccard_similarity_score(dc1[:v],dc2[:v])\n",
    "\n",
    "    #     print(score)\n",
    "        sd[sid] = score\n",
    "        sd_2[sid] = score_2\n",
    "        sd_3[sid] = score_3\n",
    "        \n",
    "        dsd[sid] = dscore\n",
    "        dsd_2[sid] = dscore_2\n",
    "        dsd_3[sid] = dscore_3\n",
    "        \n",
    "    pairs_dictionary[\"Pair {}\".format(idx+1)] = sd\n",
    "    pairs_dictionary_2[\"Pair {}\".format(idx+1)] = sd_2\n",
    "    pairs_dictionary_3[\"Pair {}\".format(idx+1)] = sd_3\n",
    "    \n",
    "    dpairs_dictionary[\"Pair {}\".format(idx+1)] = dsd\n",
    "    dpairs_dictionary_2[\"Pair {}\".format(idx+1)] = dsd_2\n",
    "    dpairs_dictionary_3[\"Pair {}\".format(idx+1)] = dsd_3"
   ]
  },
  {
   "cell_type": "code",
   "execution_count": null,
   "metadata": {},
   "outputs": [],
   "source": [
    "sns.set(rc={'figure.figsize':(15,5)})\n",
    "sns.barplot(x=list(pairs_dictionary[\"Pair 1\"].keys()),\n",
    "            y=list(pairs_dictionary[\"Pair 1\"].values()),palette=country_colors)\n",
    "plt.xticks(rotation=45)\n",
    "plt.ylim([0,1])\n",
    "plt.title(\"RBO (Full URL) Score for Pair 1 (p=1)\",fontsize=20)\n",
    "plt.ylabel(\"RBO Score\",fontsize=16)\n",
    "plt.xlabel(\"Participant ID\",fontsize=16)\n",
    "plt.show()\n"
   ]
  },
  {
   "cell_type": "code",
   "execution_count": null,
   "metadata": {},
   "outputs": [],
   "source": [
    "sns.set(rc={'figure.figsize':(15,5)})\n",
    "sns.barplot(x=list(dpairs_dictionary[\"Pair 1\"].keys()),\n",
    "            y=list(dpairs_dictionary[\"Pair 1\"].values()),palette=country_colors)\n",
    "plt.xticks(rotation=45)\n",
    "plt.ylim([0,1])\n",
    "plt.title(\"RBO (Full Domain) Score for Pair 1 (p=1)\",fontsize=20)\n",
    "plt.ylabel(\"RBO Score\",fontsize=16)\n",
    "plt.xlabel(\"Participant ID\",fontsize=16)\n",
    "plt.show()\n"
   ]
  },
  {
   "cell_type": "code",
   "execution_count": null,
   "metadata": {},
   "outputs": [],
   "source": [
    "sns.set(rc={'figure.figsize':(15,5)})\n",
    "sns.barplot(x=list(pairs_dictionary[\"Pair 2\"].keys()),\n",
    "            y=list(pairs_dictionary[\"Pair 2\"].values()),palette=country_colors)\n",
    "plt.xticks(rotation=45)\n",
    "plt.ylim([0,1])\n",
    "plt.title(\"RBO (Full URL) Score for Pair 2 (p=1)\",fontsize=20)\n",
    "plt.ylabel(\"RBO Score\",fontsize=16)\n",
    "plt.xlabel(\"Participant ID\",fontsize=16)\n",
    "plt.show()\n"
   ]
  },
  {
   "cell_type": "code",
   "execution_count": null,
   "metadata": {},
   "outputs": [],
   "source": [
    "sns.set(rc={'figure.figsize':(15,5)})\n",
    "sns.barplot(x=list(dpairs_dictionary[\"Pair 2\"].keys()),\n",
    "            y=list(dpairs_dictionary[\"Pair 2\"].values()),palette=country_colors)\n",
    "plt.xticks(rotation=45)\n",
    "plt.ylim([0,1])\n",
    "plt.title(\"RBO (Full Domain) Score for Pair 2 (p=1)\",fontsize=20)\n",
    "plt.ylabel(\"RBO Score\",fontsize=16)\n",
    "plt.xlabel(\"Participant ID\",fontsize=16)\n",
    "plt.show()\n"
   ]
  },
  {
   "cell_type": "code",
   "execution_count": null,
   "metadata": {},
   "outputs": [],
   "source": [
    "sns.set(rc={'figure.figsize':(15,5)})\n",
    "sns.barplot(x=list(pairs_dictionary[\"Pair 3\"].keys()),\n",
    "            y=list(pairs_dictionary[\"Pair 3\"].values()),palette=country_colors)\n",
    "plt.xticks(rotation=45)\n",
    "plt.ylim([0,1])\n",
    "plt.title(\"RBO (Full URL) Score for Pair 3 (p=1)\",fontsize=20)\n",
    "plt.ylabel(\"RBO Score\",fontsize=16)\n",
    "plt.xlabel(\"Participant ID\",fontsize=16)\n",
    "plt.show()\n"
   ]
  },
  {
   "cell_type": "code",
   "execution_count": null,
   "metadata": {},
   "outputs": [],
   "source": [
    "sns.set(rc={'figure.figsize':(15,5)})\n",
    "sns.barplot(x=list(dpairs_dictionary[\"Pair 3\"].keys()),\n",
    "            y=list(dpairs_dictionary[\"Pair 3\"].values()),palette=country_colors)\n",
    "plt.xticks(rotation=45)\n",
    "plt.ylim([0,1])\n",
    "plt.title(\"RBO (Full Domain) Score for Pair 3 (p=1)\",fontsize=20)\n",
    "plt.ylabel(\"RBO Score\",fontsize=16)\n",
    "plt.xlabel(\"Participant ID\",fontsize=16)\n",
    "plt.show()"
   ]
  },
  {
   "cell_type": "code",
   "execution_count": null,
   "metadata": {},
   "outputs": [],
   "source": [
    "sns.set(rc={'figure.figsize':(15,5)})\n",
    "sns.barplot(x=list(pairs_dictionary[\"Pair 4\"].keys()),\n",
    "            y=list(pairs_dictionary[\"Pair 4\"].values()),palette=country_colors)\n",
    "plt.xticks(rotation=45)\n",
    "plt.ylim([0,1])\n",
    "plt.title(\"RBO (Full URL) Score for Pair 4 (p=1)\",fontsize=20)\n",
    "plt.ylabel(\"RBO Score\",fontsize=16)\n",
    "plt.xlabel(\"Participant ID\",fontsize=16)\n",
    "plt.show()\n"
   ]
  },
  {
   "cell_type": "code",
   "execution_count": null,
   "metadata": {},
   "outputs": [],
   "source": [
    "sns.set(rc={'figure.figsize':(15,5)})\n",
    "sns.barplot(x=list(dpairs_dictionary[\"Pair 4\"].keys()),\n",
    "            y=list(dpairs_dictionary[\"Pair 4\"].values()),palette=country_colors)\n",
    "plt.xticks(rotation=45)\n",
    "plt.ylim([0,1])\n",
    "plt.title(\"RBO (Full Domain) Score for Pair 4 (p=1)\",fontsize=20)\n",
    "plt.ylabel(\"RBO Score\",fontsize=16)\n",
    "plt.xlabel(\"Participant ID\",fontsize=16)\n",
    "plt.show()\n"
   ]
  },
  {
   "cell_type": "code",
   "execution_count": null,
   "metadata": {},
   "outputs": [],
   "source": [
    "sns.set(rc={'figure.figsize':(15,5)})\n",
    "sns.barplot(x=list(pairs_dictionary[\"Pair 5\"].keys()),\n",
    "            y=list(pairs_dictionary[\"Pair 5\"].values()),palette=country_colors)\n",
    "plt.xticks(rotation=45)\n",
    "plt.ylim([0,1])\n",
    "plt.title(\"RBO (Full URL) Score for Pair 5 (p=1)\",fontsize=20)\n",
    "plt.ylabel(\"RBO Score\",fontsize=16)\n",
    "plt.xlabel(\"Participant ID\",fontsize=16)\n",
    "plt.show()\n"
   ]
  },
  {
   "cell_type": "code",
   "execution_count": null,
   "metadata": {},
   "outputs": [],
   "source": [
    "sns.set(rc={'figure.figsize':(15,5)})\n",
    "sns.barplot(x=list(dpairs_dictionary[\"Pair 5\"].keys()),\n",
    "            y=list(dpairs_dictionary[\"Pair 5\"].values()),palette=country_colors)\n",
    "plt.xticks(rotation=45)\n",
    "plt.ylim([0,1])\n",
    "plt.title(\"RBO (Full Domain) Score for Pair 5 (p=1)\",fontsize=20)\n",
    "plt.ylabel(\"RBO Score\",fontsize=16)\n",
    "plt.xlabel(\"Participant ID\",fontsize=16)\n",
    "plt.show()\n"
   ]
  },
  {
   "cell_type": "markdown",
   "metadata": {},
   "source": [
    "### Showing the charts for Top Results RBO Scores"
   ]
  },
  {
   "cell_type": "code",
   "execution_count": null,
   "metadata": {},
   "outputs": [],
   "source": [
    "sns.set(rc={'figure.figsize':(15,5)})\n",
    "sns.barplot(x=list(pairs_dictionary_2[\"Pair 1\"].keys()),\n",
    "            y=list(pairs_dictionary_2[\"Pair 1\"].values()),palette=country_colors)\n",
    "plt.xticks(rotation=45)\n",
    "plt.ylim([0,1])\n",
    "plt.title(\"RBO (Full URL) Score for Pair 1 (p=0.67)\",fontsize=20)\n",
    "plt.ylabel(\"RBO Score\",fontsize=16)\n",
    "plt.xlabel(\"Participant ID\",fontsize=16)\n",
    "plt.show()"
   ]
  },
  {
   "cell_type": "code",
   "execution_count": null,
   "metadata": {},
   "outputs": [],
   "source": [
    "sns.set(rc={'figure.figsize':(15,5)})\n",
    "sns.barplot(x=list(dpairs_dictionary_2[\"Pair 1\"].keys()),\n",
    "            y=list(dpairs_dictionary_2[\"Pair 1\"].values()),palette=country_colors)\n",
    "plt.xticks(rotation=45)\n",
    "plt.ylim([0,1])\n",
    "plt.title(\"RBO (Full Domain) Score for Pair 1 (p=0.67)\",fontsize=20)\n",
    "plt.ylabel(\"RBO Score\",fontsize=16)\n",
    "plt.xlabel(\"Participant ID\",fontsize=16)\n",
    "plt.show()"
   ]
  },
  {
   "cell_type": "code",
   "execution_count": null,
   "metadata": {},
   "outputs": [],
   "source": [
    "sns.set(rc={'figure.figsize':(15,5)})\n",
    "sns.barplot(x=list(pairs_dictionary_2[\"Pair 2\"].keys()),\n",
    "            y=list(pairs_dictionary_2[\"Pair 2\"].values()),palette=country_colors)\n",
    "plt.xticks(rotation=45)\n",
    "plt.ylim([0,1])\n",
    "plt.title(\"RBO (Full URL) Score for Pair 2 (p=0.67)\",fontsize=20)\n",
    "plt.ylabel(\"RBO Score\",fontsize=16)\n",
    "plt.xlabel(\"Participant ID\",fontsize=16)\n",
    "plt.show()"
   ]
  },
  {
   "cell_type": "code",
   "execution_count": null,
   "metadata": {},
   "outputs": [],
   "source": [
    "sns.set(rc={'figure.figsize':(15,5)})\n",
    "sns.barplot(x=list(dpairs_dictionary_2[\"Pair 2\"].keys()),\n",
    "            y=list(dpairs_dictionary_2[\"Pair 2\"].values()),palette=country_colors)\n",
    "plt.xticks(rotation=45)\n",
    "plt.ylim([0,1])\n",
    "plt.title(\"RBO (Full Domain) Score for Pair 2 (p=0.67)\",fontsize=20)\n",
    "plt.ylabel(\"RBO Score\",fontsize=16)\n",
    "plt.xlabel(\"Participant ID\",fontsize=16)\n",
    "plt.show()"
   ]
  },
  {
   "cell_type": "code",
   "execution_count": null,
   "metadata": {},
   "outputs": [],
   "source": [
    "sns.set(rc={'figure.figsize':(15,5)})\n",
    "sns.barplot(x=list(pairs_dictionary_2[\"Pair 3\"].keys()),\n",
    "            y=list(pairs_dictionary_2[\"Pair 3\"].values()),palette=country_colors)\n",
    "plt.xticks(rotation=45)\n",
    "plt.ylim([0,1])\n",
    "plt.title(\"RBO (Full URL) Score for Pair 3 (p=0.67)\",fontsize=20)\n",
    "plt.ylabel(\"RBO Score\",fontsize=16)\n",
    "plt.xlabel(\"Participant ID\",fontsize=16)\n",
    "plt.show()"
   ]
  },
  {
   "cell_type": "code",
   "execution_count": null,
   "metadata": {},
   "outputs": [],
   "source": [
    "sns.set(rc={'figure.figsize':(15,5)})\n",
    "sns.barplot(x=list(dpairs_dictionary_2[\"Pair 3\"].keys()),\n",
    "            y=list(dpairs_dictionary_2[\"Pair 3\"].values()),palette=country_colors)\n",
    "plt.xticks(rotation=45)\n",
    "plt.ylim([0,1])\n",
    "plt.title(\"RBO (Full Domain) Score for Pair 3 (p=0.67)\",fontsize=20)\n",
    "plt.ylabel(\"RBO Score\",fontsize=16)\n",
    "plt.xlabel(\"Participant ID\",fontsize=16)\n",
    "plt.show()"
   ]
  },
  {
   "cell_type": "code",
   "execution_count": null,
   "metadata": {},
   "outputs": [],
   "source": [
    "sns.set(rc={'figure.figsize':(15,5)})\n",
    "sns.barplot(x=list(pairs_dictionary_2[\"Pair 4\"].keys()),\n",
    "            y=list(pairs_dictionary_2[\"Pair 4\"].values()),palette=country_colors)\n",
    "plt.xticks(rotation=45)\n",
    "plt.ylim([0,1])\n",
    "plt.title(\"RBO (FULL URL) Score for Pair 4 (p=0.67)\",fontsize=20)\n",
    "plt.ylabel(\"RBO Score\",fontsize=16)\n",
    "plt.xlabel(\"Participant ID\",fontsize=16)\n",
    "plt.show()"
   ]
  },
  {
   "cell_type": "code",
   "execution_count": null,
   "metadata": {},
   "outputs": [],
   "source": [
    "sns.set(rc={'figure.figsize':(15,5)})\n",
    "sns.barplot(x=list(dpairs_dictionary_2[\"Pair 4\"].keys()),\n",
    "            y=list(dpairs_dictionary_2[\"Pair 4\"].values()),palette=country_colors)\n",
    "plt.xticks(rotation=45)\n",
    "plt.ylim([0,1])\n",
    "plt.title(\"RBO (FULL Domain) Score for Pair 4 (p=0.67)\",fontsize=20)\n",
    "plt.ylabel(\"RBO Score\",fontsize=16)\n",
    "plt.xlabel(\"Participant ID\",fontsize=16)\n",
    "plt.show()"
   ]
  },
  {
   "cell_type": "code",
   "execution_count": null,
   "metadata": {},
   "outputs": [],
   "source": [
    "sns.set(rc={'figure.figsize':(15,5)})\n",
    "sns.barplot(x=list(pairs_dictionary_2[\"Pair 5\"].keys()),\n",
    "            y=list(pairs_dictionary_2[\"Pair 5\"].values()),palette=country_colors)\n",
    "plt.xticks(rotation=45)\n",
    "plt.ylim([0,1])\n",
    "plt.title(\"RBO (Full URL) Score for Pair 5 (p=0.67)\",fontsize=20)\n",
    "plt.ylabel(\"RBO Score\",fontsize=16)\n",
    "plt.xlabel(\"Participant ID\",fontsize=16)\n",
    "plt.show()"
   ]
  },
  {
   "cell_type": "code",
   "execution_count": null,
   "metadata": {},
   "outputs": [],
   "source": [
    "sns.set(rc={'figure.figsize':(15,5)})\n",
    "sns.barplot(x=list(dpairs_dictionary_2[\"Pair 5\"].keys()),\n",
    "            y=list(dpairs_dictionary_2[\"Pair 5\"].values()),palette=country_colors)\n",
    "plt.xticks(rotation=45)\n",
    "plt.ylim([0,1])\n",
    "plt.title(\"RBO (Full Domain) Score for Pair 5 (p=0.67)\",fontsize=20)\n",
    "plt.ylabel(\"RBO Score\",fontsize=16)\n",
    "plt.xlabel(\"Participant ID\",fontsize=16)\n",
    "plt.show()"
   ]
  },
  {
   "cell_type": "code",
   "execution_count": null,
   "metadata": {},
   "outputs": [],
   "source": [
    "d3 = pd.DataFrame(pairs_dictionary)\n",
    "d3.head()"
   ]
  },
  {
   "cell_type": "code",
   "execution_count": null,
   "metadata": {},
   "outputs": [],
   "source": [
    "dd3 = pd.DataFrame(dpairs_dictionary)\n",
    "dd3.head()"
   ]
  },
  {
   "cell_type": "code",
   "execution_count": null,
   "metadata": {},
   "outputs": [],
   "source": [
    "d3 = pd.melt(d3.reset_index(),id_vars=[\"index\"])\n",
    "dd3 = pd.melt(dd3.reset_index(),id_vars=[\"index\"])"
   ]
  },
  {
   "cell_type": "code",
   "execution_count": null,
   "metadata": {},
   "outputs": [],
   "source": [
    "d3[\"Country\"] = d3[\"index\"].map(country_dict)\n",
    "d3.tail()"
   ]
  },
  {
   "cell_type": "code",
   "execution_count": null,
   "metadata": {},
   "outputs": [],
   "source": [
    "dd3[\"Country\"] = dd3[\"index\"].map(country_dict)\n",
    "dd3.tail()"
   ]
  },
  {
   "cell_type": "code",
   "execution_count": null,
   "metadata": {},
   "outputs": [],
   "source": [
    "sns.set(rc={'figure.figsize':(18,5)})\n",
    "sns.boxplot(x=\"variable\", y=\"value\", data=d3)\n",
    "plt.title(\"Box plot of RBO (Full URL) for each Pair (p=1)\",fontsize=20)\n",
    "plt.ylabel(\"RBO Score\",fontsize=16)\n",
    "plt.xlabel(\"Pairs\",fontsize=16)\n",
    "plt.ylim([0,1])\n",
    "plt.show()"
   ]
  },
  {
   "cell_type": "code",
   "execution_count": null,
   "metadata": {},
   "outputs": [],
   "source": [
    "sns.set(rc={'figure.figsize':(18,5)})\n",
    "sns.boxplot(x=\"variable\", y=\"value\", data=dd3)\n",
    "plt.title(\"Box plot of RBO (Full Domain) for each Pair (p=1)\",fontsize=20)\n",
    "plt.ylabel(\"RBO Score\",fontsize=16)\n",
    "plt.xlabel(\"Pairs\",fontsize=16)\n",
    "plt.ylim([0,1])\n",
    "plt.show()"
   ]
  },
  {
   "cell_type": "code",
   "execution_count": null,
   "metadata": {},
   "outputs": [],
   "source": [
    "sns.set(rc={'figure.figsize':(18,5)})\n",
    "sns.boxplot(x=\"variable\", y=\"value\", data=d3,color=\"black\")\n",
    "sns.swarmplot(x=\"variable\", y=\"value\", data=d3,hue=\"Country\")\n",
    "plt.title(\"Box plot of RBO (Full URL) for each Pair (p=1)\",fontsize=20)\n",
    "plt.ylabel(\"RBO Score\",fontsize=16)\n",
    "plt.xlabel(\"Pairs\",fontsize=16)\n",
    "plt.ylim([0,1])\n",
    "plt.show()"
   ]
  },
  {
   "cell_type": "code",
   "execution_count": null,
   "metadata": {},
   "outputs": [],
   "source": [
    "sns.set(rc={'figure.figsize':(18,5)})\n",
    "sns.boxplot(x=\"variable\", y=\"value\", data=dd3,color=\"black\")\n",
    "sns.swarmplot(x=\"variable\", y=\"value\", data=dd3,hue=\"Country\")\n",
    "plt.title(\"Box plot of RBO (Full Domain) for each Pair (p=1)\",fontsize=20)\n",
    "plt.ylabel(\"RBO Score\",fontsize=16)\n",
    "plt.xlabel(\"Pairs\",fontsize=16)\n",
    "plt.ylim([0,1])\n",
    "plt.show()"
   ]
  },
  {
   "cell_type": "code",
   "execution_count": null,
   "metadata": {},
   "outputs": [],
   "source": [
    "d4 = pd.DataFrame(pairs_dictionary_2)\n",
    "d4.head()"
   ]
  },
  {
   "cell_type": "code",
   "execution_count": null,
   "metadata": {},
   "outputs": [],
   "source": [
    "dd4 = pd.DataFrame(dpairs_dictionary_2)\n",
    "dd4.head()"
   ]
  },
  {
   "cell_type": "code",
   "execution_count": null,
   "metadata": {},
   "outputs": [],
   "source": [
    "d4 = pd.melt(d4.reset_index(),id_vars=[\"index\"])\n",
    "dd4 = pd.melt(dd4.reset_index(),id_vars=[\"index\"])"
   ]
  },
  {
   "cell_type": "code",
   "execution_count": null,
   "metadata": {},
   "outputs": [],
   "source": [
    "d4[\"Country\"] = d4[\"index\"].map(country_dict)\n",
    "d4.head()"
   ]
  },
  {
   "cell_type": "code",
   "execution_count": null,
   "metadata": {},
   "outputs": [],
   "source": [
    "dd4[\"Country\"] = dd4[\"index\"].map(country_dict)\n",
    "dd4.head()"
   ]
  },
  {
   "cell_type": "code",
   "execution_count": null,
   "metadata": {},
   "outputs": [],
   "source": [
    "sns.set(rc={'figure.figsize':(18,5)})\n",
    "sns.boxplot(x=\"variable\", y=\"value\", data=d4,palette=country_colors)\n",
    "plt.title(\"Box plot of RBO (Full URL) for each Pair (p=0.67)\",fontsize=20)\n",
    "plt.ylabel(\"RBO Score\",fontsize=16)\n",
    "plt.xlabel(\"Pairs\",fontsize=16)\n",
    "plt.ylim([0,1])\n",
    "plt.show()"
   ]
  },
  {
   "cell_type": "code",
   "execution_count": null,
   "metadata": {},
   "outputs": [],
   "source": [
    "sns.set(rc={'figure.figsize':(18,5)})\n",
    "sns.boxplot(x=\"variable\", y=\"value\", data=dd4,palette=country_colors)\n",
    "plt.title(\"Box plot of RBO (Full Domain) for each Pair (p=0.67)\",fontsize=20)\n",
    "plt.ylabel(\"RBO Score\",fontsize=16)\n",
    "plt.xlabel(\"Pairs\",fontsize=16)\n",
    "plt.ylim([0,1])\n",
    "plt.show()"
   ]
  },
  {
   "cell_type": "code",
   "execution_count": null,
   "metadata": {},
   "outputs": [],
   "source": [
    "sns.set(rc={'figure.figsize':(18,5)})\n",
    "sns.boxplot(x=\"variable\", y=\"value\", data=d4,color='black')\n",
    "sns.swarmplot(x=\"variable\", y=\"value\", data=d4,hue='Country')\n",
    "plt.title(\"Box plot of RBO (Full URL) for each Pair (p=0.67)\",fontsize=20)\n",
    "plt.ylabel(\"RBO Score\",fontsize=16)\n",
    "plt.xlabel(\"Pairs\",fontsize=16)\n",
    "plt.ylim([0,1])\n",
    "plt.show()"
   ]
  },
  {
   "cell_type": "code",
   "execution_count": null,
   "metadata": {},
   "outputs": [],
   "source": [
    "sns.set(rc={'figure.figsize':(18,5)})\n",
    "sns.boxplot(x=\"variable\", y=\"value\", data=dd4,color='black')\n",
    "sns.swarmplot(x=\"variable\", y=\"value\", data=dd4,hue='Country')\n",
    "plt.title(\"Box plot of RBO (Full Domain) for each Pair (p=0.67)\",fontsize=20)\n",
    "plt.ylabel(\"RBO Score\",fontsize=16)\n",
    "plt.xlabel(\"Pairs\",fontsize=16)\n",
    "plt.ylim([0,1])\n",
    "plt.show()"
   ]
  },
  {
   "cell_type": "code",
   "execution_count": null,
   "metadata": {},
   "outputs": [],
   "source": [
    "d5 = pd.DataFrame(pairs_dictionary_3)\n",
    "d5.head()"
   ]
  },
  {
   "cell_type": "code",
   "execution_count": null,
   "metadata": {},
   "outputs": [],
   "source": [
    "dd5 = pd.DataFrame(dpairs_dictionary_3)\n",
    "dd5.head()"
   ]
  },
  {
   "cell_type": "code",
   "execution_count": null,
   "metadata": {},
   "outputs": [],
   "source": [
    "d5 = pd.melt(d5.reset_index(),id_vars=[\"index\"])\n",
    "d5[\"Country\"] = d5[\"index\"].map(country_dict)\n",
    "d5.head()"
   ]
  },
  {
   "cell_type": "code",
   "execution_count": null,
   "metadata": {},
   "outputs": [],
   "source": [
    "dd5 = pd.melt(dd5.reset_index(),id_vars=[\"index\"])\n",
    "dd5[\"Country\"] = dd5[\"index\"].map(country_dict)\n",
    "dd5.head()"
   ]
  },
  {
   "cell_type": "code",
   "execution_count": null,
   "metadata": {},
   "outputs": [],
   "source": [
    "sns.set(rc={'figure.figsize':(18,5)})\n",
    "sns.boxplot(x=\"variable\", y=\"value\", data=d5)\n",
    "plt.title(\"Box plot of RBO (Full URL) Jaccard Similarity for each Pair\",fontsize=20)\n",
    "plt.ylabel(\"Jaccard Similarity\",fontsize=16)\n",
    "plt.xlabel(\"Pairs\",fontsize=16)\n",
    "plt.ylim([0,1])\n",
    "plt.show()"
   ]
  },
  {
   "cell_type": "code",
   "execution_count": null,
   "metadata": {},
   "outputs": [],
   "source": [
    "sns.set(rc={'figure.figsize':(18,5)})\n",
    "sns.boxplot(x=\"variable\", y=\"value\", data=dd5)\n",
    "plt.title(\"Box plot of RBO (Full Domain) Jaccard Similarity for each Pair\",fontsize=20)\n",
    "plt.ylabel(\"Jaccard Similarity\",fontsize=16)\n",
    "plt.xlabel(\"Pairs\",fontsize=16)\n",
    "plt.ylim([0,1])\n",
    "plt.show()"
   ]
  },
  {
   "cell_type": "code",
   "execution_count": null,
   "metadata": {},
   "outputs": [],
   "source": [
    "sns.set(rc={'figure.figsize':(18,5)})\n",
    "sns.boxplot(x=\"variable\", y=\"value\", data=d5,color='black')\n",
    "sns.swarmplot(x=\"variable\", y=\"value\", data=d5,hue='Country')\n",
    "plt.title(\"Box plot of RBO (Full URL) for each Pair Jaccard Similarity\",fontsize=20)\n",
    "plt.ylabel(\"Jaccard Similarity\",fontsize=16)\n",
    "plt.xlabel(\"Pairs\",fontsize=16)\n",
    "plt.ylim([0,1])\n",
    "plt.show()"
   ]
  },
  {
   "cell_type": "code",
   "execution_count": null,
   "metadata": {},
   "outputs": [],
   "source": [
    "sns.set(rc={'figure.figsize':(18,5)})\n",
    "sns.boxplot(x=\"variable\", y=\"value\", data=dd5,color='black')\n",
    "sns.swarmplot(x=\"variable\", y=\"value\", data=dd5,hue='Country')\n",
    "plt.title(\"Box plot of RBO (Full URL) for each Pair Jaccard Similarity\",fontsize=20)\n",
    "plt.ylabel(\"Jaccard Similarity\",fontsize=16)\n",
    "plt.xlabel(\"Pairs\",fontsize=16)\n",
    "plt.ylim([0,1])\n",
    "plt.show()"
   ]
  },
  {
   "cell_type": "markdown",
   "metadata": {},
   "source": [
    "### What is the difference in the *quality* of what they are getting?\n",
    "### o\tProportion of .gov sites?\n"
   ]
  },
  {
   "cell_type": "code",
   "execution_count": null,
   "metadata": {},
   "outputs": [],
   "source": [
    "def get_pairs(x):\n",
    "    if x in p1:\n",
    "        return \"p1\"\n",
    "    elif x in p2:\n",
    "        return \"p2\"\n",
    "    elif x in p3:\n",
    "        return \"p3\"\n",
    "    elif x in p4:\n",
    "        return \"p4\"\n",
    "    elif x in p5:\n",
    "        return \"p5\"\n",
    "        "
   ]
  },
  {
   "cell_type": "code",
   "execution_count": null,
   "metadata": {},
   "outputs": [],
   "source": [
    "dff[\"gov domain\"] = dff[\"Result Item Full Domain\"].apply(lambda x: 1 if \".gov\" in x else 0)"
   ]
  },
  {
   "cell_type": "code",
   "execution_count": null,
   "metadata": {},
   "outputs": [],
   "source": [
    "govdf = dff[[\"Survey Id\",\"Keyword Content\",\"gov domain\"]]"
   ]
  },
  {
   "cell_type": "code",
   "execution_count": null,
   "metadata": {},
   "outputs": [],
   "source": [
    "govdf[\"Pair Number\"] = govdf[\"Keyword Content\"].apply(get_pairs)"
   ]
  },
  {
   "cell_type": "code",
   "execution_count": null,
   "metadata": {},
   "outputs": [],
   "source": [
    "govdf[\"Keyword Type\"] = govdf[\"Keyword Content\"].apply(lambda x: \"pos\" if (x in pos) else 'neg')"
   ]
  },
  {
   "cell_type": "code",
   "execution_count": null,
   "metadata": {},
   "outputs": [],
   "source": [
    "govdf = govdf.groupby([\"Survey Id\",\"Keyword Content\",\"Pair Number\",\"Keyword Type\"],as_index=False)[[\"gov domain\"]].agg(['count','sum'])"
   ]
  },
  {
   "cell_type": "code",
   "execution_count": null,
   "metadata": {},
   "outputs": [],
   "source": [
    "govdf.reset_index(inplace=True)"
   ]
  },
  {
   "cell_type": "code",
   "execution_count": null,
   "metadata": {},
   "outputs": [],
   "source": [
    "govdf[\"Proportion\"] = govdf[\"gov domain\"][\"sum\"] / govdf[\"gov domain\"]['count'] "
   ]
  },
  {
   "cell_type": "code",
   "execution_count": null,
   "metadata": {},
   "outputs": [],
   "source": [
    "govdf = govdf.drop(\"gov domain\",axis=1)"
   ]
  },
  {
   "cell_type": "code",
   "execution_count": null,
   "metadata": {},
   "outputs": [],
   "source": [
    "govdf"
   ]
  },
  {
   "cell_type": "code",
   "execution_count": null,
   "metadata": {},
   "outputs": [],
   "source": [
    "govdf_2 = govdf[[\"Pair Number\",\"Keyword Type\",\"Proportion\"]].set_index(\"Pair Number\").sort_index().reset_index()"
   ]
  },
  {
   "cell_type": "code",
   "execution_count": null,
   "metadata": {},
   "outputs": [],
   "source": [
    "sns.set(rc={'figure.figsize':(18,5)})\n",
    "sns.boxplot(x=\"Pair Number\",y=\"Proportion\",hue=\"Keyword Type\",data=govdf_2)\n",
    "plt.title(\"Proportion of Gov Domain in Positive and Negative for each Pair\",fontsize=20)\n",
    "plt.ylabel(\"Proportion\",fontsize=16)\n",
    "plt.xlabel(\"Pair Number\",fontsize=16)\n",
    "plt.ylim([0,1])\n",
    "plt.show()"
   ]
  },
  {
   "cell_type": "code",
   "execution_count": null,
   "metadata": {},
   "outputs": [],
   "source": [
    "pro = {}\n",
    "pairs = [p1,p2,p3,p4,p5]\n",
    "\n",
    "for i in govdf.groupby(\"Survey Id\"):\n",
    "    d = i[1]\n",
    "    scores = {}\n",
    "    for idx,p in enumerate(pairs):\n",
    "        try:\n",
    "            pv = d.loc[d[\"Keyword Content\"] == p[0],\"Proportion\"].values[0]\n",
    "            nv = d.loc[d[\"Keyword Content\"] == p[1],\"Proportion\"].values[0]\n",
    "            diff = pv - nv \n",
    "            scores[\"Pair {}\".format(idx+1)] = diff\n",
    "        except Exception as e:\n",
    "#             print(e)\n",
    "            pass\n",
    "    pro[i[0]] = scores\n",
    "    "
   ]
  },
  {
   "cell_type": "code",
   "execution_count": null,
   "metadata": {},
   "outputs": [],
   "source": [
    "prodf = pd.DataFrame(data=pro).T\n",
    "prodf.head()"
   ]
  },
  {
   "cell_type": "code",
   "execution_count": null,
   "metadata": {},
   "outputs": [],
   "source": [
    "sns.set(rc={'figure.figsize':(15,5)})\n",
    "sns.barplot(x=prodf.index,y=prodf[\"Pair 1\"],palette=country_colors)\n",
    "plt.xticks(rotation=45)\n",
    "plt.ylim([-0.5,0.5])\n",
    "plt.title(\"Proportion of Gov Websites for Pair 1 for Each Participant\",fontsize=20)\n",
    "plt.ylabel(\"Gov Proportion\",fontsize=16)\n",
    "plt.xlabel(\"Participant ID\",fontsize=16)\n",
    "plt.show()"
   ]
  },
  {
   "cell_type": "code",
   "execution_count": null,
   "metadata": {},
   "outputs": [],
   "source": [
    "sns.set(rc={'figure.figsize':(15,5)})\n",
    "sns.barplot(x=prodf.index,y=prodf[\"Pair 2\"],palette=country_colors)\n",
    "plt.xticks(rotation=45)\n",
    "plt.ylim([-0.5,0.5])\n",
    "plt.title(\"Proportion of Gov Websites for Pair 2 for Each Participant\",fontsize=20)\n",
    "plt.ylabel(\"Gov Proportion\",fontsize=16)\n",
    "plt.xlabel(\"Participant ID\",fontsize=16)\n",
    "plt.show()"
   ]
  },
  {
   "cell_type": "code",
   "execution_count": null,
   "metadata": {},
   "outputs": [],
   "source": [
    "sns.set(rc={'figure.figsize':(15,5)})\n",
    "sns.barplot(x=prodf.index,y=prodf[\"Pair 3\"],palette=country_colors)\n",
    "plt.xticks(rotation=45)\n",
    "plt.ylim([-0.5,0.5])\n",
    "plt.title(\"Proportion of Gov Websites for Pair 3 for Each Participant\",fontsize=20)\n",
    "plt.ylabel(\"Gov Proportion\",fontsize=16)\n",
    "plt.xlabel(\"Participant ID\",fontsize=16)\n",
    "plt.show()"
   ]
  },
  {
   "cell_type": "code",
   "execution_count": null,
   "metadata": {},
   "outputs": [],
   "source": [
    "sns.set(rc={'figure.figsize':(15,5)})\n",
    "sns.barplot(x=prodf.index,y=prodf[\"Pair 4\"],palette=country_colors)\n",
    "plt.xticks(rotation=45)\n",
    "plt.ylim([-0.5,0.5])\n",
    "plt.title(\"Proportion of Gov Websites for Pair 4 for Each Participant\",fontsize=20)\n",
    "plt.ylabel(\"Gov Proportion\",fontsize=16)\n",
    "plt.xlabel(\"Participant ID\",fontsize=16)\n",
    "plt.show()"
   ]
  },
  {
   "cell_type": "code",
   "execution_count": null,
   "metadata": {},
   "outputs": [],
   "source": [
    "sns.set(rc={'figure.figsize':(15,5)})\n",
    "sns.barplot(x=prodf.index,y=prodf[\"Pair 5\"],palette=country_colors)\n",
    "plt.xticks(rotation=45)\n",
    "plt.ylim([-0.5,0.5])\n",
    "plt.title(\"Proportion of Gov Websites for Pair 5 for Each Participant\",fontsize=20)\n",
    "plt.ylabel(\"Gov Proportion\",fontsize=16)\n",
    "plt.xlabel(\"Participant ID\",fontsize=16)\n",
    "plt.show()"
   ]
  },
  {
   "cell_type": "code",
   "execution_count": null,
   "metadata": {},
   "outputs": [],
   "source": [
    "rankdf = dff.groupby([\"Survey Id\",\"Keyword Content\"],as_index=False)[[\"Keyword Openrank Average\"]].agg(\"mean\")\n",
    "\n",
    "def get_pair_number(x):\n",
    "    for idx,p in enumerate(pairs):\n",
    "        if x in p:\n",
    "            return idx + 1\n",
    "        \n",
    "\n",
    "rankdf[\"Pair Number\"] = rankdf[\"Keyword Content\"].apply(get_pair_number)\n",
    "rankdf = rankdf.groupby([\"Survey Id\",\"Pair Number\"],as_index=False)[[\"Keyword Openrank Average\"]].agg(\"mean\")\n",
    "rankdf = rankdf.set_index(\"Survey Id\")\n",
    "# rankdf"
   ]
  },
  {
   "cell_type": "code",
   "execution_count": null,
   "metadata": {},
   "outputs": [],
   "source": [
    "sns.set(rc={'figure.figsize':(15,5)})\n",
    "d = rankdf[rankdf[\"Pair Number\"] == 1][[\"Keyword Openrank Average\"]]\n",
    "sns.barplot(x=d.index,y=d[\"Keyword Openrank Average\"],palette=country_colors)\n",
    "plt.xticks(rotation=45)\n",
    "plt.title(\"Average Openrank for Pair 1\",fontsize=20)\n",
    "plt.ylabel(\"Keyword Openrank Average\",fontsize=16)\n",
    "plt.xlabel(\"Participant ID\",fontsize=16)\n",
    "plt.show()"
   ]
  },
  {
   "cell_type": "code",
   "execution_count": null,
   "metadata": {},
   "outputs": [],
   "source": [
    "sns.set(rc={'figure.figsize':(15,5)})\n",
    "d = rankdf[rankdf[\"Pair Number\"] == 2][[\"Keyword Openrank Average\"]]\n",
    "sns.barplot(x=d.index,y=d[\"Keyword Openrank Average\"],palette=country_colors)\n",
    "plt.xticks(rotation=45)\n",
    "plt.title(\"Average Openrank for Pair 2\",fontsize=20)\n",
    "plt.ylabel(\"Keyword Openrank Average\",fontsize=16)\n",
    "plt.xlabel(\"Participant ID\",fontsize=16)\n",
    "plt.show()"
   ]
  },
  {
   "cell_type": "code",
   "execution_count": null,
   "metadata": {},
   "outputs": [],
   "source": [
    "sns.set(rc={'figure.figsize':(15,5)})\n",
    "d = rankdf[rankdf[\"Pair Number\"] == 3][[\"Keyword Openrank Average\"]]\n",
    "sns.barplot(x=d.index,y=d[\"Keyword Openrank Average\"],palette=country_colors)\n",
    "plt.xticks(rotation=45)\n",
    "plt.title(\"Average Openrank for Pair 3\",fontsize=20)\n",
    "plt.ylabel(\"Keyword Openrank Average\",fontsize=16)\n",
    "plt.xlabel(\"Participant ID\",fontsize=16)\n",
    "plt.show()"
   ]
  },
  {
   "cell_type": "code",
   "execution_count": null,
   "metadata": {},
   "outputs": [],
   "source": [
    "sns.set(rc={'figure.figsize':(15,5)})\n",
    "d = rankdf[rankdf[\"Pair Number\"] == 4][[\"Keyword Openrank Average\"]]\n",
    "sns.barplot(x=d.index,y=d[\"Keyword Openrank Average\"],palette=country_colors)\n",
    "plt.xticks(rotation=45)\n",
    "plt.title(\"Average Openrank for Pair 4\",fontsize=20)\n",
    "plt.ylabel(\"Keyword Openrank Average\",fontsize=16)\n",
    "plt.xlabel(\"Participant ID\",fontsize=16)\n",
    "plt.show()"
   ]
  },
  {
   "cell_type": "code",
   "execution_count": 2,
   "metadata": {},
   "outputs": [
    {
     "ename": "NameError",
     "evalue": "name 'rankdf' is not defined",
     "output_type": "error",
     "traceback": [
      "\u001b[1;31m---------------------------------------------------------------------------\u001b[0m",
      "\u001b[1;31mNameError\u001b[0m                                 Traceback (most recent call last)",
      "\u001b[1;32m<ipython-input-2-85f757613470>\u001b[0m in \u001b[0;36m<module>\u001b[1;34m\u001b[0m\n\u001b[0;32m      1\u001b[0m \u001b[0msns\u001b[0m\u001b[1;33m.\u001b[0m\u001b[0mset\u001b[0m\u001b[1;33m(\u001b[0m\u001b[0mrc\u001b[0m\u001b[1;33m=\u001b[0m\u001b[1;33m{\u001b[0m\u001b[1;34m'figure.figsize'\u001b[0m\u001b[1;33m:\u001b[0m\u001b[1;33m(\u001b[0m\u001b[1;36m15\u001b[0m\u001b[1;33m,\u001b[0m\u001b[1;36m5\u001b[0m\u001b[1;33m)\u001b[0m\u001b[1;33m}\u001b[0m\u001b[1;33m)\u001b[0m\u001b[1;33m\u001b[0m\u001b[1;33m\u001b[0m\u001b[0m\n\u001b[1;32m----> 2\u001b[1;33m \u001b[0md\u001b[0m \u001b[1;33m=\u001b[0m \u001b[0mrankdf\u001b[0m\u001b[1;33m[\u001b[0m\u001b[0mrankdf\u001b[0m\u001b[1;33m[\u001b[0m\u001b[1;34m\"Pair Number\"\u001b[0m\u001b[1;33m]\u001b[0m \u001b[1;33m==\u001b[0m \u001b[1;36m5\u001b[0m\u001b[1;33m]\u001b[0m\u001b[1;33m[\u001b[0m\u001b[1;33m[\u001b[0m\u001b[1;34m\"Keyword Openrank Average\"\u001b[0m\u001b[1;33m]\u001b[0m\u001b[1;33m]\u001b[0m\u001b[1;33m\u001b[0m\u001b[1;33m\u001b[0m\u001b[0m\n\u001b[0m\u001b[0;32m      3\u001b[0m \u001b[0msns\u001b[0m\u001b[1;33m.\u001b[0m\u001b[0mbarplot\u001b[0m\u001b[1;33m(\u001b[0m\u001b[0mx\u001b[0m\u001b[1;33m=\u001b[0m\u001b[0md\u001b[0m\u001b[1;33m.\u001b[0m\u001b[0mindex\u001b[0m\u001b[1;33m,\u001b[0m\u001b[0my\u001b[0m\u001b[1;33m=\u001b[0m\u001b[0md\u001b[0m\u001b[1;33m[\u001b[0m\u001b[1;34m\"Keyword Openrank Average\"\u001b[0m\u001b[1;33m]\u001b[0m\u001b[1;33m,\u001b[0m\u001b[0mpalette\u001b[0m\u001b[1;33m=\u001b[0m\u001b[0mcountry_colors\u001b[0m\u001b[1;33m)\u001b[0m\u001b[1;33m\u001b[0m\u001b[1;33m\u001b[0m\u001b[0m\n\u001b[0;32m      4\u001b[0m \u001b[0mplt\u001b[0m\u001b[1;33m.\u001b[0m\u001b[0mxticks\u001b[0m\u001b[1;33m(\u001b[0m\u001b[0mrotation\u001b[0m\u001b[1;33m=\u001b[0m\u001b[1;36m45\u001b[0m\u001b[1;33m)\u001b[0m\u001b[1;33m\u001b[0m\u001b[1;33m\u001b[0m\u001b[0m\n\u001b[0;32m      5\u001b[0m \u001b[0mplt\u001b[0m\u001b[1;33m.\u001b[0m\u001b[0mtitle\u001b[0m\u001b[1;33m(\u001b[0m\u001b[1;34m\"Average Openrank for Pair 5\"\u001b[0m\u001b[1;33m,\u001b[0m\u001b[0mfontsize\u001b[0m\u001b[1;33m=\u001b[0m\u001b[1;36m20\u001b[0m\u001b[1;33m)\u001b[0m\u001b[1;33m\u001b[0m\u001b[1;33m\u001b[0m\u001b[0m\n",
      "\u001b[1;31mNameError\u001b[0m: name 'rankdf' is not defined"
     ]
    }
   ],
   "source": [
    "sns.set(rc={'figure.figsize':(15,5)})\n",
    "d = rankdf[rankdf[\"Pair Number\"] == 5][[\"Keyword Openrank Average\"]]\n",
    "sns.barplot(x=d.index,y=d[\"Keyword Openrank Average\"],palette=country_colors)\n",
    "plt.xticks(rotation=45)\n",
    "plt.title(\"Average Openrank for Pair 5\",fontsize=20)\n",
    "plt.ylabel(\"Keyword Openrank Average\",fontsize=16)\n",
    "plt.xlabel(\"Participant ID\",fontsize=16)\n",
    "plt.show()"
   ]
  },
  {
   "cell_type": "code",
   "execution_count": null,
   "metadata": {},
   "outputs": [],
   "source": []
  },
  {
   "cell_type": "code",
   "execution_count": null,
   "metadata": {},
   "outputs": [],
   "source": []
  },
  {
   "cell_type": "code",
   "execution_count": null,
   "metadata": {},
   "outputs": [],
   "source": []
  },
  {
   "cell_type": "code",
   "execution_count": null,
   "metadata": {},
   "outputs": [],
   "source": []
  }
 ],
 "metadata": {
  "kernelspec": {
   "display_name": "Python 3",
   "language": "python",
   "name": "python3"
  },
  "language_info": {
   "codemirror_mode": {
    "name": "ipython",
    "version": 3
   },
   "file_extension": ".py",
   "mimetype": "text/x-python",
   "name": "python",
   "nbconvert_exporter": "python",
   "pygments_lexer": "ipython3",
   "version": "3.7.7"
  },
  "varInspector": {
   "cols": {
    "lenName": 16,
    "lenType": 16,
    "lenVar": 40
   },
   "kernels_config": {
    "python": {
     "delete_cmd_postfix": "",
     "delete_cmd_prefix": "del ",
     "library": "var_list.py",
     "varRefreshCmd": "print(var_dic_list())"
    },
    "r": {
     "delete_cmd_postfix": ") ",
     "delete_cmd_prefix": "rm(",
     "library": "var_list.r",
     "varRefreshCmd": "cat(var_dic_list()) "
    }
   },
   "types_to_exclude": [
    "module",
    "function",
    "builtin_function_or_method",
    "instance",
    "_Feature"
   ],
   "window_display": false
  }
 },
 "nbformat": 4,
 "nbformat_minor": 4
}
